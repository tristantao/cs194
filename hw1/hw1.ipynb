{
 "metadata": {
  "name": ""
 },
 "nbformat": 3,
 "nbformat_minor": 0,
 "worksheets": [
  {
   "cells": [
    {
     "cell_type": "markdown",
     "metadata": {},
     "source": [
      "CS194-16 Introduction to Data Science\n",
      "\n",
      "**Name**: Yuqi Tao\n",
      "\n",
      "**Student ID**: 22122190\n",
      "\n",
      "\n",
      "Assignment 1: Text Analysis and Entity Resolution\n",
      "===\n",
      "\n",
      "## Overview\n",
      "\n",
      "Entity resolution is a common, yet difficult problem in data cleaning and integration.\n",
      "In this assignment, we will use powerful and scalable text analysis techniques to perform entity resolution across two data sets of commercial products."
     ]
    },
    {
     "cell_type": "markdown",
     "metadata": {},
     "source": [
      "### Entity Resolution\n",
      "\n",
      "Entity resolution, also known as record deduplication, is the process of identifying rows in one or more data sets that refer to the same real world entity.\n",
      "Take an example.\n",
      "You're on ebay looking for a [hip data science accessory][sliderulewiki], but you're on a budget, so you decide to scrape the [ebay listings][ebay] for a few days to get a feel for the market.\n",
      "Unfortunately, the listings are confusing and you don't know how to aggregate them.\n",
      "Entity resolution to the rescue!\n",
      "You find an [authoritative database][sliderules] and map all the ebay listings to it.\n",
      "Now you can comparison shop, get that sweet Keuffel and Esser for way cheap, and impress all the data hipsters.\n",
      "\n",
      "But finding matching records is a hard problem in general.\n",
      "A major reason is that the criteria for identifying duplicates are often vague and impossible to encode in rules.\n",
      "In addition, from a purely computational perspective, the problem is quadratic in the size of its inputs: naively, all pairs of records need to be compared to find all the duplicates.\n",
      "In this assignment, we will begin to address both these challenges.\n",
      "\n",
      "[sliderulewiki]: http://en.wikipedia.org/wiki/Slide_rule \"Only 2X faster than Hadoop\"\n",
      "\n",
      "[sliderules]: http://www.sliderule.ca/ \"Artisanal Data Technology\"\n",
      "\n",
      "[ebay]: http://www.ebay.com/sch/i.html?_odkw=keuffel+esser+slide+rule&_osacat=0&_trksid=p2045573.m570.l1313.TR0.TRC0.Xslide+rule&_nkw=slide+rule&_sacat=0&_from=R40 \"Impress your colleagues\""
     ]
    },
    {
     "cell_type": "markdown",
     "metadata": {},
     "source": [
      "\n",
      "### Application\n",
      "\n",
      "Your assignment is to perform entity resolution over two web-scraped data sets of commercial product listings, one from Amazon, and one from Google.\n",
      "The goal is to build a unified database of all products listed on the Internet: a one-stop-shop for all your shopping needs.  (Elevator pitch: *it's like **Kayak.com** for **e-commerce**!*)\n",
      "\n",
      "The web has made unprecedented amounts of data available publicly, but scraped data frequently needs to be de-duplicated.\n",
      "These data sets are typical examples of what you can collect with some simple scripting.\n",
      "The data is not especially large (just a few thousand records), but even so, you will find that entity resolution is a major challenge (top results with this data are ~50% success rate).\n",
      "Don't get discouraged; the goal is to get acquainted with techniques to tackle the problem, and apply them to a representative example.\n"
     ]
    },
    {
     "cell_type": "markdown",
     "metadata": {},
     "source": [
      "### Files\n",
      "\n",
      "Data files for this assignment can be found at:\n",
      "\n",
      "`https://github.com/amplab/datascience-sp14/raw/master/hw1/hw1data.tar.gz`\n",
      "\n",
      "The zip file includes the following files:\n",
      "\n",
      "* **Google.csv**, the Google Products data set \n",
      "* **Amazon.csv**, the Amazon data set\n",
      "* **Google_small.csv**, 200 records sampled from the Google data\n",
      "* **Amazon_small.csv**, 200 records sampled from the Amazon data\n",
      "* **Amazon_Google_perfectMapping.csv**, the \"gold standard\" mapping\n",
      "* **stopwords.txt**, a list of common English words\n",
      "\n",
      "Besides the complete data files, there are \"sample\" data files for each data set.\n",
      "Use these for **Part 1**.\n",
      "In addition, there is a \"gold standard\" file that contains all of the true mappings between entities in the two data sets.\n",
      "Every row in the gold standard file has a pair of record IDs (one Google, one Amazon) that belong to two record that describe the same thing in the real world.\n",
      "We will use the gold standard to evaluate our algorithms."
     ]
    },
    {
     "cell_type": "markdown",
     "metadata": {},
     "source": [
      "### Deliverables\n",
      "\n",
      "Complete the all the exercises below and turn in a write up in the form of an IPython notebook, that is, **an .ipynb file**.\n",
      "The write up should include your code, answers to exercise questions, and plots of results.\n",
      "Complete submission instructions will be posted on Piazza.\n",
      "\n",
      "You can use this notebook and fill in answers inline, or if you prefer, do your write up in a separate notebook.\n",
      "In this notebook, we provide code templates for many of the exercises.\n",
      "They are intended to help with code re-use, since the exercises build on each other, and are highly recommended.\n",
      "Don't forget to include answers to questions that ask for natural language responses, i.e., in English, not code!"
     ]
    },
    {
     "cell_type": "markdown",
     "metadata": {},
     "source": [
      "### Guidelines\n",
      "\n",
      "#### Code\n",
      "\n",
      "This assignment can be done with basic python and matplotlib.\n",
      "Feel free to use PANDAs, too, which you may find well suited to several exercises.\n",
      "As for other libraries, please check with course staff whether they're allowed.\n",
      "In general, we want you to use whatever is comfortable, except for libraries (e.g., NLTK) that include functionality covered in the assignment.\n",
      "\n",
      "You're not required to do your coding in IPython, so feel free to use your favorite editor or IDE.\n",
      "But when you're done, remember to put your code into a notebook for your write up.\n",
      "\n",
      "#### Collaboration\n",
      "\n",
      "This assignment is to be done individually.  Everyone should be getting a hands on experience in this course.  You are free to discuss course material with fellow students, and we encourage you to use Internet resources to aid your understanding, but the work you turn in, including all code and answers, must be your own work."
     ]
    },
    {
     "cell_type": "markdown",
     "metadata": {},
     "source": [
      "## Part 0: Preliminaries\n",
      "\n",
      "### Exercise 0\n",
      "\n",
      "Download the data and unzip it.\n",
      "Read each file in from the file system, and store them as lists of lines.\n",
      "\n",
      "For each of the data files (\"Google.csv\", \"Amazon.csv\", and the samples), we want to parse the IDs out of each record.\n",
      "The IDs are the first column of the file (they are URLs for Google, and alphanumeric strings for Amazon).\n",
      "Omitting the headers, load these data files into *dictionaries mapping ID to a string containing the rest of the record*.\n"
     ]
    },
    {
     "cell_type": "code",
     "collapsed": false,
     "input": [
      "import pandas\n",
      "import os\n",
      "import csv\n",
      "from pylab import *\n",
      "%matplotlib inline\n",
      "\n",
      "DATA_PATH = \"/Users/t-rex-Box/Desktop/work/cs194/hw1/data/\" # Make this the /path/to/the/data\n",
      "\n",
      "AMAZON_DICT_FULL = {}\n",
      "AMAZON_DICT_SMALL = {}\n",
      "GOOGLE_DICT_FULL = {}\n",
      "GOOGLE_DICT_SMALL = {}\n",
      "\n",
      "def load(dir_root, csv_name, target_dict):\n",
      "    with open(os.path.join(dir_root, csv_name), 'rb') as f:\n",
      "        reader = csv.reader(f)\n",
      "        next(reader, None) #ignore header\n",
      "        for row in reader:\n",
      "            target_dict[row[0]] = \" \".join(row[1:])\n",
      "\n",
      "load(DATA_PATH, 'Amazon.csv', AMAZON_DICT_FULL)\n",
      "load(DATA_PATH, 'Amazon_small.csv', AMAZON_DICT_SMALL)\n",
      "load(DATA_PATH, 'Google.csv', GOOGLE_DICT_FULL)\n",
      "load(DATA_PATH, 'Google_small.csv', GOOGLE_DICT_SMALL)\n",
      "\n",
      "print len(AMAZON_DICT_FULL)\n",
      "print len(AMAZON_DICT_SMALL)\n",
      "print len(GOOGLE_DICT_FULL)\n",
      "print len(GOOGLE_DICT_SMALL)\n",
      "\n",
      "#keys = set(AMAZON_DICT_FULL.keys()).intersection(set(GOOGLE_DICT_FULL.keys()))\n",
      "#keys = set(AMAZON_DICT_SMALL.keys()).intersection(set(GOOGLE_DICT_SMALL.keys()))\n",
      "#print keys\n",
      "# TODO Load data files here..."
     ],
     "language": "python",
     "metadata": {},
     "outputs": [
      {
       "output_type": "stream",
       "stream": "stdout",
       "text": [
        "1363\n",
        "200\n",
        "3226\n",
        "200\n"
       ]
      }
     ],
     "prompt_number": 18
    },
    {
     "cell_type": "markdown",
     "metadata": {},
     "source": [
      "## Part 1: ER as Text Similarity\n",
      "\n",
      "A simple approach to entity resolution is to treat all records as strings and compute their similarity with a string distance function.\n",
      "In this section, we will build some components for bag-of-words text-analysis, and use them to compute record similarity.\n",
      "\n",
      "### 1.1 Bags of Words\n",
      "\n",
      "Bag-of-words is a conceptually simple yet powerful approach to text analysis.\n",
      "The idea is to treat strings, a.k.a. **documents**, as *unordered collections* of words, or **tokens**, i.e., as bags of words.\n",
      "\n",
      "> **Note on terminology**: \"token\" is more general than what we ordinarily mean by \"word\" and includes things like numbers, acronyms, and other exotica like word-roots and fixed-length character strings.\n",
      "> Bag of words techniques all apply to any sort of token, so when we say \"bag-of-words\" we really mean \"bag-of-tokens,\" strictly speaking.\n",
      "\n",
      "Tokens become the atomic unit of text comparison.\n",
      "If we want to compare two documents, we count how many tokens they share in common.\n",
      "If we want to search for documents with keyword queries (this is what Google does), then we turn the keywords into tokens and find documents that contain them.\n",
      "\n",
      "The power of this approach is that it makes string comparisons insensitive to small differences that probably do not affect meaning much, for example, punctuation and word order.\n",
      "\n"
     ]
    },
    {
     "cell_type": "markdown",
     "metadata": {},
     "source": [
      "#### Exercise 1\n",
      "\n",
      "**a**. Implement the function `simple_tokenize(string)` that takes a string and returns a list of tokens in the string.\n",
      "`simple_tokenize` should split strings using the provided regular expression.\n",
      "Since we want to make token-matching case insensitive, make sure all tokens are lower-case.\n",
      "Give an interpretation, in natural language, of what the regular expression, `split_regex`, matches."
     ]
    },
    {
     "cell_type": "code",
     "collapsed": false,
     "input": [
      "import re\n",
      "\n",
      "quickbrownfox = \"A quick brown fox jumps over the lazy dog.\"\n",
      "split_regex = r'\\W+'\n",
      "\n",
      "# TODO Implement this\n",
      "def simple_tokenize(string):\n",
      "    tokens = re.split(split_regex, string)\n",
      "    processed_tokens = [x.lower() for x in tokens if x != \"\"]\n",
      "    return processed_tokens\n",
      "\n",
      "print simple_tokenize(quickbrownfox) # Should give ['a', 'quick', 'brown', ... ]"
     ],
     "language": "python",
     "metadata": {},
     "outputs": [
      {
       "output_type": "stream",
       "stream": "stdout",
       "text": [
        "['a', 'quick', 'brown', 'fox', 'jumps', 'over', 'the', 'lazy', 'dog']\n"
       ]
      }
     ],
     "prompt_number": 19
    },
    {
     "cell_type": "markdown",
     "metadata": {},
     "source": [
      "> It essentially splits on non-alhanumeral chars."
     ]
    },
    {
     "cell_type": "markdown",
     "metadata": {},
     "source": [
      "**b**. *Stopwords* are common words that do not contribute much to the content or meaning of a document (e.g., \"the\", \"a\", \"is\", \"to\", etc.).\n",
      "Stopwords add noise to bag-of-words comparisons, so the are usually excluded.\n",
      "Using the included file \"stopwords.txt\", implement `tokenize`, an improved tokenizer that does not emit stopwords.\n"
     ]
    },
    {
     "cell_type": "code",
     "collapsed": false,
     "input": [
      "stopwords = [] # Load from file\n",
      "with open(os.path.join(DATA_PATH, \"stopwords.txt\"), 'rb') as f:\n",
      "    reader = csv.reader(f)\n",
      "    for row in reader:\n",
      "        stopwords += (row)\n",
      "#print stopwords\n",
      "\n",
      "# TODO Implement this\n",
      "def tokenize(string):\n",
      "    tokens = re.split(split_regex, string)\n",
      "    processed_tokens = [x.lower() for x in tokens if x != \"\" and x.lower() not in stopwords]\n",
      "    return processed_tokens\n",
      "\n",
      "print tokenize(quickbrownfox) # Should give ['quick', 'brown', ... ]"
     ],
     "language": "python",
     "metadata": {},
     "outputs": [
      {
       "output_type": "stream",
       "stream": "stdout",
       "text": [
        "['quick', 'brown', 'fox', 'jumps', 'lazy', 'dog']\n"
       ]
      }
     ],
     "prompt_number": 20
    },
    {
     "cell_type": "markdown",
     "metadata": {},
     "source": [
      "**c**. Now let's tokenize the two small data sets.\n",
      "For each one build a dictionary of tokens, i.e., a dictionary where the record IDs are the keys, and the output of `tokenize` is the values.\n",
      "How many tokens, total, are there in the two data sets?\n",
      "Which Amazon record has the biggest number of tokens?"
     ]
    },
    {
     "cell_type": "code",
     "collapsed": false,
     "input": [
      "# TODO Compute these (dict() or DataFrame OK)\n",
      "amazon_rec2tok = {}\n",
      "google_rec2tok = {}\n",
      "total_tokens = 0 # TODO Fix me\n",
      "\n",
      "for key, val in AMAZON_DICT_SMALL.items():\n",
      "\ttoken = tokenize(val)\n",
      "\tamazon_rec2tok[key] = token\n",
      "\ttotal_tokens += len(token)\n",
      "\n",
      "for key, val in GOOGLE_DICT_SMALL.items():\n",
      "    token = tokenize(val)\n",
      "    google_rec2tok[key] = token\n",
      "    total_tokens += len(token)\n",
      "\n",
      "#print amazon_rec2tok\n",
      "print 'There are %s tokens in the combined data sets' % total_tokens\n",
      "\n",
      "sorted_amazon = sorted(amazon_rec2tok.iteritems(), key=lambda (k, v): len(v), reverse=True)\n",
      "biggest_record = sorted_amazon[0][0] # TODO Fix me\n",
      "print 'The Amazon record with ID \"%s\" has the most tokens' % biggest_record\n"
     ],
     "language": "python",
     "metadata": {},
     "outputs": [
      {
       "output_type": "stream",
       "stream": "stdout",
       "text": [
        "There are 23242 tokens in the combined data sets\n",
        "The Amazon record with ID \"b000o24l3q\" has the most tokens\n"
       ]
      }
     ],
     "prompt_number": 21
    },
    {
     "cell_type": "markdown",
     "metadata": {},
     "source": [
      "### 1.2 Weighted Bag-of-Words: TF-IDF\n",
      "\n",
      "Bag-of-words comparisons are not very good when all tokens are treated the same: some tokens are more important than others.\n",
      "Weights give us a way to specify which tokens to favor.\n",
      "With weights, when we compare documents, instead of counting common tokens, we sum up the weights of common tokens.\n",
      "\n",
      "A good heuristic for assigning weights is called \"Term-Frequency/Inverse-Document-Frequency,\" or TF-IDF for short.\n",
      "\n",
      "#### TF\n",
      "\n",
      "TF rewards tokens that appear many times in the same document.\n",
      "It is computed as the frequency of a token in a document, that is, if document `d` contains 100 tokens and token `t` appears in `d` 5 times, then the TF weight of `t` in `d` is `5/100 = 1/20`.\n",
      "The intuition for TF is that if a word occurs often in a document, then it is more important to the meaning of the document.\n",
      "\n",
      "#### IDF\n",
      "\n",
      "IDF rewards tokens that are rare overall in a data set.\n",
      "The intuition is that it is more significant if two documents share a rare word than a common one.\n",
      "IDF weight for a token, *t*, in a set of documents, *U*, is computed as follows: \n",
      "\n",
      "* Let *N* be the total number of documents in *U*\n",
      "* Find *n(t)*, the number of documents in *U* that contain *t*\n",
      "* Then *IDF(t) = N/n(t)*.\n",
      "\n",
      "Note that *n(t)/N* is the frequency of *t* in *U*, and *N/n* is the inverse frequency.\n",
      "\n",
      "> **Note on terminology**: Sometimes token weights depend on the document the token belongs to, that is, the same token may have a different weight when it's found in different documents.  We call these weights `local` weights.  TF is an example of a local weight, because it depends on the length of the source.  On the other hand, some token weights only depend on the token, and are the same everywhere that token is found.  We call these weights `global`, and IDF is one such weight.\n",
      "\n",
      "#### TF-IDF\n",
      "\n",
      "Finally, to bring it all together, the total TF-IDF weight for a token in a document is the product of its TF and IDF weights."
     ]
    },
    {
     "cell_type": "markdown",
     "metadata": {},
     "source": [
      "#### Exercise 2\n",
      "\n",
      "**a**. Implement `tf(tokens)` that takes a list of tokens belonging to a single document and returns a dictionary mapping tokens to TF weights.\n"
     ]
    },
    {
     "cell_type": "code",
     "collapsed": false,
     "input": [
      "# TODO Implement this\n",
      "def tf(tokens):\n",
      "\ttf_count_hash = {}\n",
      "\ttotal = float(len(tokens))\n",
      "\tfor t in tokens:\n",
      "\t\ttf_count_hash[t] = tf_count_hash.get(t, 0) + 1\n",
      "\ttf_count_hash.update((x, y/total) for x, y in tf_count_hash.items())\n",
      "\treturn tf_count_hash\n",
      "print tf(tokenize(quickbrownfox)) # Should give { 'quick': 0.1666 ... }"
     ],
     "language": "python",
     "metadata": {},
     "outputs": [
      {
       "output_type": "stream",
       "stream": "stdout",
       "text": [
        "{'brown': 0.16666666666666666, 'lazy': 0.16666666666666666, 'jumps': 0.16666666666666666, 'fox': 0.16666666666666666, 'dog': 0.16666666666666666, 'quick': 0.16666666666666666}\n"
       ]
      }
     ],
     "prompt_number": 22
    },
    {
     "cell_type": "markdown",
     "metadata": {},
     "source": [
      "**b**. Implement `find_idfs` that assigns an IDF weight to every unique token in a collection of data called `corpus`.  You may structure `corpus` however you want, but `find_idfs` should return a dictionary mapping tokens to weights.  Use `find_idfs` to compute IDF weights for all tokens in the combined small data sets.  How many unique tokens are there?"
     ]
    },
    {
     "cell_type": "code",
     "collapsed": false,
     "input": [
      "# TODO Implement this\n",
      "def find_idfs(corpus):\n",
      "    #corpus: dict of id:[tokens]\n",
      "    #return dic token: weights\n",
      "    idf_hash = {}\n",
      "    size = float(len(corpus))\n",
      "    token_hash = {}\n",
      "    for tokens in corpus.values(): #{id:[tokens]}\n",
      "        dup_check = set()\n",
      "        for token in tokens: #for each token in [tokens], update the token count only ONCE per document.\n",
      "            if token not in dup_check:\n",
      "                token_hash[token] = token_hash.get(token, 0) + 1\n",
      "                dup_check.add(token) #no longer counted for again.\n",
      "    token_hash.update((x, size/y) for x, y in token_hash.items())\n",
      "    return token_hash\n",
      "\n",
      "\n",
      "combined = dict(amazon_rec2tok.items() + google_rec2tok.items())\n",
      "idfs_small = find_idfs(combined)\n",
      "unique_tokens = len(idfs_small) # Fix me\n",
      "#print (idfs_small)\n",
      "#print len(amazon_rec2tok)\n",
      "#print len(google_rec2tok)\n",
      "#print len(combined)\n",
      "#print token_hash\n",
      "\n",
      "print \"There are %s unique tokens in the small data sets.\" % unique_tokens\n"
     ],
     "language": "python",
     "metadata": {},
     "outputs": [
      {
       "output_type": "stream",
       "stream": "stdout",
       "text": [
        "There are 4900 unique tokens in the small data sets.\n"
       ]
      }
     ],
     "prompt_number": 23
    },
    {
     "cell_type": "markdown",
     "metadata": {},
     "source": [
      "**c**. What are the 10 tokens with the smallest IDF in the combined small data set?  Do you think they are useful for entity resolution?  Why or why not?"
     ]
    },
    {
     "cell_type": "code",
     "collapsed": false,
     "input": [
      "small_idf_tokens = sorted(idfs_small.iteritems(), key=lambda (k, v): v, reverse=False)[0:10]\n",
      "\n",
      "print small_idf_tokens"
     ],
     "language": "python",
     "metadata": {},
     "outputs": [
      {
       "output_type": "stream",
       "stream": "stdout",
       "text": [
        "[('99', 2.985074626865672), ('0', 4.123711340206185), ('software', 4.25531914893617), ('9', 5.714285714285714), ('new', 6.896551724137931), ('features', 6.896551724137931), ('use', 7.017543859649122), ('95', 7.2727272727272725), ('complete', 7.2727272727272725), ('easy', 7.6923076923076925)]\n"
       ]
      }
     ],
     "prompt_number": 24
    },
    {
     "cell_type": "markdown",
     "metadata": {},
     "source": [
      "> No, because what we found is that these words are extremely abundant (for exmaple '99' with IDF of 2.98 means almost 1/3 of documents have the term. As mentioned before, it is more powerful for 2 documents to share *rare* words, not common ones."
     ]
    },
    {
     "cell_type": "markdown",
     "metadata": {},
     "source": [
      "**d**. Plot a histogram of IDF values.  Be sure to use appropriate scaling and bucketing for the data.  What conclusions can you draw from the distribution of weights?"
     ]
    },
    {
     "cell_type": "code",
     "collapsed": false,
     "input": [
      "import pylab\n",
      "%matplotlib inline\n",
      "idf_vals = [y for x,y in idfs_small.items()]\n",
      "output = pylab.hist(idf_vals, bins=50)\n",
      "# TODO Make a plot. HINT: You can use pylab.hist"
     ],
     "language": "python",
     "metadata": {},
     "outputs": [
      {
       "metadata": {},
       "output_type": "display_data",
       "png": "[encoded data removed]",
       "text": [
        "<matplotlib.figure.Figure at 0x109d8e8d0>"
       ]
      }
     ],
     "prompt_number": 25
    },
    {
     "cell_type": "markdown",
     "metadata": {},
     "source": [
      "> The distribution seems sparse and exponential, with less lower values, and a singular outlying bar at 400."
     ]
    },
    {
     "cell_type": "markdown",
     "metadata": {},
     "source": [
      "**e**. Use `tf` to implement `tfidf(tokens, idfs)` that takes a list of tokens from a document and a dictionary of idf weights and returns a dictionary mapping tokens to total TF-IDF weight.  Use `tfidf` to compute the weights of Amazon product record 'b000hkgj8k'."
     ]
    },
    {
     "cell_type": "code",
     "collapsed": false,
     "input": [
      "# TODO Implement this\n",
      "def tfidf(tokens, idfs):\n",
      "    tokens_tf_hash = tf(tokens)\n",
      "    tokens_tfidf_hash = {}\n",
      "    for token in tokens:\n",
      "        tokens_tfidf_hash[token] = idfs[token] * tokens_tf_hash[token]\n",
      "    return tokens_tfidf_hash\n",
      "\n",
      "rec_b000hkgj8k_weights = tfidf(amazon_rec2tok['b000hkgj8k'], idfs_small) # Fix me\n",
      "\n",
      "print \"Amazon record 'b000hkgj8k' has tokens and weights:\\n%s\" % rec_b000hkgj8k_weights"
     ],
     "language": "python",
     "metadata": {},
     "outputs": [
      {
       "output_type": "stream",
       "stream": "stdout",
       "text": [
        "Amazon record 'b000hkgj8k' has tokens and weights:\n",
        "{'autocad': 28.57142857142857, 'autodesk': 7.142857142857142, '47': 14.285714285714285, 'courseware': 57.14285714285714, 'psg': 28.57142857142857, '2007': 3.007518796992481, 'customizing': 14.285714285714285, 'interface': 2.5974025974025974, '95': 0.5194805194805194}\n"
       ]
      }
     ],
     "prompt_number": 26
    },
    {
     "cell_type": "markdown",
     "metadata": {},
     "source": [
      "\n",
      "### 1.3 Cosine Similarity\n",
      "\n",
      "Now we are ready to do text comparisons in a formal way.\n",
      "The metric of string distance we will use is called **cosine similarity**.\n",
      "We will treat each document as a vector in some high dimensional space.\n",
      "Then, to compare two documents we compute the cosine of the angle between their two document vectors.\n",
      "This is easier than it sounds.\n",
      "\n",
      "The first question to answer is how do we represent documents as vectors?\n",
      "The answer is familiar: bag-of-words!\n",
      "We treat each unique token as a dimension, and treat token weights as magnitudes in their respective token dimensions.\n",
      "For example, suppose we use simple counts as weights, and we want to interpret the string \"Hello, world!  Goodbye, world!\" as a vector.\n",
      "Then in the \"hello\" and \"goodbye\" dimensions the vector has value 1, in the \"world\" dimension it has value 2, and it is zero in all other dimensions.\n",
      "\n",
      "Next question is: given two vectors how do we find the cosine of the angle between them?\n",
      "Recall the formula for the dot product of two vectors:\n",
      "\n",
      "$$a \\cdot b = \\| a \\| \\| b \\| \\cos \\theta$$\n",
      "\n",
      "Here $a \\cdot b = \\sum_{i=1}^n a_i b_i$ is the ordinary dot product of two vectors, and $\\|a\\| = \\sqrt{ \\sum_{i=1}^n a_i^2 }$ is the norm of $a$.\n",
      "\n",
      "We can rearrange terms and solve for the cosine to find it is simply the normalized dot product of the vectors.\n",
      "With our vector model, the dot product and norm computations are simple functions of the bag-of-words document representations, so we now have a formal way to compute similarity:\n",
      "\n",
      "$$similarity = \\cos \\theta = \\frac{a \\cdot b}{\\|a\\| \\|b\\|} = \\frac{\\sum_{i=1}^n a_i b_i}{\\sqrt{\\sum_{i=1}^n a_i^2} \\sqrt{\\sum_{i=1}^n b_i^2}}$$\n",
      "\n",
      "Setting aside the algebra, the geometric interpretation is more intuitive.\n",
      "The angle between two document vectors is small if they share many tokens in common, because they are pointing in roughly the same direction.\n",
      "Then, the cosine of the angle will be large.\n",
      "Otherwise, if the angle is large (and they have few words in common), the cosine is small.\n",
      "So the cosine scales proportionally with our intuitive sense of similarity."
     ]
    },
    {
     "cell_type": "markdown",
     "metadata": {},
     "source": [
      "\n",
      "#### Exercise 3\n",
      "\n",
      "**a**. Implement `cosine_similarity(string1, string2, idfs)` that takes two strings and computes their cosine similarity in the context of some global IDF weights.\n",
      "Use `tokenize`, `tf`, and the IDF weights from exercise **2b** for extracting tokens and assigning them weights.\n"
     ]
    },
    {
     "cell_type": "code",
     "collapsed": false,
     "input": [
      "import math\n",
      "\n",
      "# Optional utility\n",
      "def dotprod(a, b):\n",
      "    sum_product = 0.0\n",
      "    for key in a.keys():\n",
      "        sum_product += (a.get(key, 0) * b.get(key, 0)) #if the other document doens't have this single token, it'll be 0 anyways.\n",
      "    return sum_product\n",
      "\n",
      "# Optional utility\n",
      "def norm(a):\n",
      "    return math.sqrt(dotprod(a, a))\n",
      "\n",
      "# Optional freebie\n",
      "def cossim(a, b):\n",
      "    return dotprod(a, b) / norm(a) / norm(b)\n",
      "\n",
      "test_vec1 = {'foo': 2, 'bar': 3, 'baz': 5 }\n",
      "test_vec2 = {'foo': 1, 'bar': 0, 'baz': 20 }\n",
      "print dotprod(test_vec1, test_vec2), norm(test_vec1) # Should be 102 6.16441400297\n",
      "\n",
      "# TODO Implement this\n",
      "def cosine_similarity(string1, string2, idfs):\n",
      "    tokens_a = tokenize(string1)\n",
      "    tokens_b = tokenize(string2)\n",
      "    vector_a = tfidf(tokens_a, idfs)\n",
      "    vector_b = tfidf(tokens_b, idfs)\n",
      "    #print vector_a\n",
      "    #print vector_b\n",
      "    return cossim(vector_a, vector_b)\n",
      "\n",
      "print cosine_similarity(\"Adobe Photoshop\",\n",
      "                        \"Adobe Illustrator\", \n",
      "                        idfs_small) # Should be 0.0577243382163"
     ],
     "language": "python",
     "metadata": {},
     "outputs": [
      {
       "output_type": "stream",
       "stream": "stdout",
       "text": [
        "102.0 6.16441400297\n",
        "0.0577243382163\n"
       ]
      }
     ],
     "prompt_number": 27
    },
    {
     "cell_type": "markdown",
     "metadata": {},
     "source": [
      "**b**. Now we can finally do some entity resolution!\n",
      "For every product record in the small Google data set, use `cosine_similarity` to compute its similarity to every record in the small Amazon set.  Build a dictionary mapping `(Google Id, Amazon Id)` tuples to similarity scores between 0 and 1.\n",
      "What is the similarity between Amazon record 'b000o24l3q' and Google record `http://www.google.com/base/feeds/snippets/17242822440574356561`."
     ]
    },
    {
     "cell_type": "code",
     "collapsed": false,
     "input": [
      "# TODO Compute similarities\n",
      "similarities = {}\n",
      "for amazon_key, amazon_val in AMAZON_DICT_SMALL.items():\n",
      "    for google_key, google_val in GOOGLE_DICT_SMALL.items():\n",
      "        #print google_val\n",
      "        similarities[(amazon_key, google_key)] = cosine_similarity(amazon_val, google_val, idfs_small)\n",
      "\n",
      "print 'Requested similarity is %s.' % similarities[('b000o24l3q',\n",
      "  'http://www.google.com/base/feeds/snippets/17242822440574356561')]"
     ],
     "language": "python",
     "metadata": {},
     "outputs": [
      {
       "output_type": "stream",
       "stream": "stdout",
       "text": [
        "Requested similarity is 0.000301935456928.\n"
       ]
      }
     ],
     "prompt_number": 28
    },
    {
     "cell_type": "markdown",
     "metadata": {},
     "source": [
      "**c**.  Use the \"gold standard\" data (loaded from the included file) to answer the following questions.  How many true duplicate pairs are there in the small data set?  What is the average similarity score for true duplicates?  What about for non-duplicates?  Based on this, is cosine similarity doing a good job, qualitatively speaking, of identifying duplicates?  Why or why not?"
     ]
    },
    {
     "cell_type": "code",
     "collapsed": false,
     "input": [
      "gold_standard = [] # Load this if not already loaded\n",
      "#loading in (amazon, google) format\n",
      "with open(os.path.join(DATA_PATH, \"Amazon_Google_perfectMapping.csv\"), 'rb') as f:\n",
      "    reader = csv.reader(f)\n",
      "    next(reader, None) #ignore header\n",
      "    for row in reader:\n",
      "        gold_standard.append(tuple(row))\n",
      "\n",
      "true_dups = 0 # Fix me\n",
      "false_dups = 0\n",
      "total_sim_dups = 0.0\n",
      "total_sim_non = 0.0\n",
      "\n",
      "for amazon_id, amazon_val in AMAZON_DICT_SMALL.items():\n",
      "    for google_id, google_val in GOOGLE_DICT_SMALL.items():\n",
      "        if (amazon_id, google_id) in gold_standard: #dup\n",
      "            true_dups += 1\n",
      "            total_sim_dups += cosine_similarity(amazon_val, google_val, idfs_small)\n",
      "        else: #non dup\n",
      "            false_dups += 1\n",
      "            total_sim_non += cosine_similarity(amazon_val, google_val, idfs_small)\n",
      "\n",
      "avg_sim_dups = total_sim_dups / true_dups # Fix me\n",
      "avg_sim_non = total_sim_non / false_dups # Fix me\n",
      "\n",
      "print \"There are %s true duplicates.\" % true_dups\n",
      "print \"The average similarity of true duplicates is %s.\" % avg_sim_dups\n",
      "print \"And for non duplicates, it is %s.\" % avg_sim_non\n"
     ],
     "language": "python",
     "metadata": {},
     "outputs": [
      {
       "output_type": "stream",
       "stream": "stdout",
       "text": [
        "There are 146 true duplicates.\n",
        "The average similarity of true duplicates is 0.251111121887.\n",
        "And for non duplicates, it is 0.00116980178162.\n"
       ]
      }
     ],
     "prompt_number": 29
    },
    {
     "cell_type": "markdown",
     "metadata": {},
     "source": [
      "> It actually seems like a pretty good way to distinguish duplicates. When duplicates, the average similairty is significantly higher, versus average non-duplicates. We should examine the variance of the similaries in order to be able to conclude with more confidence. Nevertheless, it seems like duplicates seem to yield a much higher similarity score."
     ]
    },
    {
     "cell_type": "markdown",
     "metadata": {},
     "source": [
      "## Part 2: Scalable ER\n",
      "\n",
      "In the previous section we built a text similarity function and used it for small scale entity resolution.  Our implementation is limited by its quadratic run time complexity, and is not practical for even modestly sized data sets.  In this section we will implement a more scalable algorithm and use it to do entity resolution on the full data set.\n",
      "\n",
      "### Inverted Indices\n",
      "\n",
      "To improve our ER algorithm from **Part 1**, we should begin by analyzing its running time.\n",
      "In particular, the algorithm above is quadratic in two ways.\n",
      "First, we did a lot of redundant computation of tokens and weights, since each record was reprocessed every time it was compared.\n",
      "Second, we made qudratically many token comparisons between records.\n",
      "\n",
      "The first source of quadratic overhead can be eliminated with precomputation and look-up tables, but the second source is a little more tricky.\n",
      "In the worst case, every token in every record in one data set exists in every record in the other data set, and therefore every token makes a nonzero contribution to the cosine similarity.\n",
      "In this case, token comparison is unavoidably quadratic.\n",
      "\n",
      "But in reality most records have nothing (or very little) in common.\n",
      "Moreover, it is typical for a record in one data set to have at most one duplicate record in the other data set (this is the case assuming each data set has been de-duplicated against itself).\n",
      "In this case, the output is linear in the size of the input and we can hope to achieve linear running time.\n",
      "\n",
      "An **inverted index** is a data structure that will allow us to avoid making quadratically many token comparisons.  It maps each token in the data set to the list of documents that contain the token.  So, instead of comparing, record by record, each token to every other token to see if they match, we will use inverted indices to *look up* records that match on a particular token.\n",
      "\n",
      "> **Note on terminology**: In text search, a *forward* index maps documents in a data set to the tokens they contain.  An *inverted* index supports the inverse mapping.\n"
     ]
    },
    {
     "cell_type": "markdown",
     "metadata": {},
     "source": [
      "#### Exercise 4\n",
      "\n",
      "> **Note**: For this section, use the complete Google and Amazon data sets, not the samples\n",
      "\n",
      "> **Pandas note**: If you use DataFrames for the mapping tables, make sure you index them correctly for efficient key look ups\n",
      "\n",
      "**a**. To address the overhead of recomputing tokens and token-weights, build a dictionary for each data set that maps record IDs to TF-IDF weighted token vectors (the vectors themselves should be dictionaries).  You will need to re-use code from above to recompute IDF weights for the complete combined data set."
     ]
    },
    {
     "cell_type": "code",
     "collapsed": false,
     "input": [
      "# TODO Redo tokenization for full data set\n",
      "amazon_rec2tok = {}\n",
      "google_rec2tok = {}\n",
      "for key, val in AMAZON_DICT_FULL.items():\n",
      "\ttoken = tokenize(val)\n",
      "\tamazon_rec2tok[key] = token\n",
      "\ttotal_tokens += len(token)\n",
      "\n",
      "for key, val in GOOGLE_DICT_FULL.items():\n",
      "    token = tokenize(val)\n",
      "    google_rec2tok[key] = token\n",
      "    total_tokens += len(token)\n",
      "\n",
      "# TODO Recompute IDFs for full data set\n",
      "combined = dict(amazon_rec2tok.items() + google_rec2tok.items())\n",
      "idfs = find_idfs(combined)\n",
      "\n",
      "# TODO Pre-compute norms.  Build mappings from record ID to norm of the weight vector.\n",
      "google_norms = {}\n",
      "amazon_norms = {}\n",
      "\n",
      "# TODO Pre-compute TF-IDF weights.  Build mappings from record ID weight vector.\n",
      "google_weights = {}\n",
      "for g_id, g_tok in google_rec2tok.items():\n",
      "    google_weights[g_id] = tfidf(g_tok, idfs)\n",
      "    google_norms[g_id] = norm(google_weights[g_id])\n",
      "\n",
      "amazon_weights = {}\n",
      "for a_id, a_tok in amazon_rec2tok.items():\n",
      "    amazon_weights[a_id] = tfidf(a_tok, idfs)\n",
      "    amazon_norms[a_id] = norm(amazon_weights[a_id])\n"
     ],
     "language": "python",
     "metadata": {},
     "outputs": [],
     "prompt_number": 30
    },
    {
     "cell_type": "markdown",
     "metadata": {},
     "source": [
      "**b**. Build inverted indices of both data sources."
     ]
    },
    {
     "cell_type": "code",
     "collapsed": false,
     "input": [
      "# TODO Implement this. Should return a mapping from token to list-of-record-IDs\n",
      "def invert_index(forward_index):\n",
      "    invert_index_hash = {}\n",
      "    for doc_id, tokens in forward_index.items():\n",
      "        for token in tokens:\n",
      "            working_set = invert_index_hash.get(token, set())\n",
      "            working_set.add(doc_id)\n",
      "            invert_index_hash[token] = working_set\n",
      "    invert_index_hash.update((token, list(ids)) for token, ids in invert_index_hash.items()) #bring set back to list.\n",
      "    return invert_index_hash\n",
      "\n",
      "# TODO Pre-compute inverted indices\n",
      "amazon_inv = invert_index(amazon_weights) #token:[ids]\n",
      "google_inv = invert_index(google_weights)\n",
      "print len(amazon_inv)\n",
      "print len(google_inv)\n",
      "\n",
      "total_a = 0\n",
      "total_g = 0\n",
      "for a_id, a_list in amazon_inv.items():\n",
      "    total_a += len(a_list)\n",
      "\n",
      "for g_id, g_list in google_inv.items():\n",
      "    total_g += len(g_list)\n",
      "print total_a\n",
      "print total_g"
     ],
     "language": "python",
     "metadata": {},
     "outputs": [
      {
       "output_type": "stream",
       "stream": "stdout",
       "text": [
        "12579\n",
        "11797\n",
        "113665\n",
        "83870\n"
       ]
      }
     ],
     "prompt_number": 31
    },
    {
     "cell_type": "markdown",
     "metadata": {},
     "source": [
      "**c**. We are now in position to efficiently perform ER on the full data sets.\n",
      "Implement the following algorithm to build a dictionary that maps a pair of records (as a tuple) to a list of tokens they share in common:\n",
      "Iterate over tokens of one data set, and for each token, if the token appears in the other data set, use the inverted indices to find all pairs of records (one from either set) that contain the token.  Add these pairs to the output."
     ]
    },
    {
     "cell_type": "code",
     "collapsed": false,
     "input": [
      "import itertools\n",
      "\n",
      "# TODO Implement algorithm to compute this:\n",
      "common_tokens = {} # Should map a record ID pair to a list of common tokens\n",
      "\n",
      "for amz_token, amz_ids in amazon_inv.items(): #tokens\n",
      "    if amz_token in google_inv: #if this token is in the other dict\n",
      "        google_ids = google_inv[amz_token]\n",
      "        for amzon_id_contain in amz_ids: #for each id ['z092gt','b200sd']\n",
      "            for google_id_contain in google_ids: #for each google id ['https://google.com/...','https://google.com/...']\n",
      "                working_set = common_tokens.get((amzon_id_contain, google_id_contain), set())\n",
      "                working_set.add(amz_token)\n",
      "                common_tokens[(amzon_id_contain, google_id_contain)] = working_set\n",
      "\n",
      "print len(common_tokens) # Should be 2882143 #also is {(amzon_id, google_id) : [common tokens]}"
     ],
     "language": "python",
     "metadata": {},
     "outputs": [
      {
       "output_type": "stream",
       "stream": "stdout",
       "text": [
        "2882143\n"
       ]
      }
     ],
     "prompt_number": 32
    },
    {
     "cell_type": "markdown",
     "metadata": {},
     "source": [
      "**d**. Use the data structures from parts **a** and **c** to build a dictionary to map record pairs to cosine similarity scores."
     ]
    },
    {
     "cell_type": "code",
     "collapsed": false,
     "input": [
      "# TODO Implement this. Should take two record IDs and a list of common\n",
      "# tokens and return the cosine similarity of the two records.\n",
      "# Use results from part *a* for fast look ups.\n",
      "\n",
      "def reduction(dic, valid_keys):\n",
      "    #given a dic and list of valid_keys, it'll remove every key in in dict, that is NOT in valid_keys.\n",
      "    modified_dct = dic.copy()\n",
      "    for key in modified_dct.keys():\n",
      "        if key not in valid_keys:\n",
      "            del(modified_dct[key])\n",
      "    return modified_dct\n",
      "\n",
      "def fast_cosine_similarity(a_rec, g_rec, tokens):\n",
      "    reduced_amazon_weights = reduction(amazon_weights[a_rec], tokens)\n",
      "    reduced_google_weights = reduction(google_weights[g_rec], tokens)\n",
      "    return dotprod(reduced_amazon_weights, reduced_google_weights) / google_norms[g_rec] / amazon_norms[a_rec]\n",
      "    #print len(amazon_weights[a_rec])\n",
      "    #print len(google_weights[g_rec])\n",
      "    #print amazon_norms[a_rec]\n",
      "    #print google_norms[g_rec]\n",
      "    #print reduced_amazon_weights\n",
      "    #print reduced_google_weights\n",
      "    #print dotprod(reduced_amazon_weights, reduced_google_weights)\n",
      "    \n",
      "    #return dotprod(amazon_weights[a_rec], google_weights[g_rec]) / google_norms[g_rec] / amazon_norms[a_rec] #non-optimized\n",
      "    #unused from the old cosine sim, for reference.\n",
      "    #tokens_a = tokenize(string1)\n",
      "    #tokens_b = tokenize(string2)\n",
      "    #vector_a = tfidf(tokens_a, idfs)\n",
      "    #vector_b = tfidf(tokens_b, idfs)\n",
      "    #return dotprod(a, b) / norm(a) / norm(b)\n",
      "\n",
      "# TODO Compute similarities (use fast_cosine_similarity)\n",
      "\n",
      "sims = {} # Should map record-ID-pairs to cosine similarity score\n",
      "for id_pair, tokens in common_tokens.items():\n",
      "    sims[id_pair] = fast_cosine_similarity(id_pair[0], id_pair[1], tokens)"
     ],
     "language": "python",
     "metadata": {},
     "outputs": [],
     "prompt_number": 33
    },
    {
     "cell_type": "code",
     "collapsed": false,
     "input": [
      "#TODO REMOVE\n",
      "\n",
      "#first_dict = sims #save it only one time.\n",
      "#print amazon_weights['b000o24l3q']\n",
      "#print google_weights['http://www.google.com/base/feeds/snippets/17242822440574356561']\n",
      "\n",
      "#print first_dict[('b000o24l3q', 'http://www.google.com/base/feeds/snippets/17242822440574356561')]\n",
      "print sims[('b000o24l3q', 'http://www.google.com/base/feeds/snippets/17242822440574356561')]\n",
      "\n",
      "#print first_dict[('b000jz4hqo', 'http://www.google.com/base/feeds/snippets/18441480711193821750')]\n",
      "print sims[('b000jz4hqo', 'http://www.google.com/base/feeds/snippets/18441480711193821750')]\n",
      "\n",
      "#print first_dict[('b0007prnjo', 'http://www.google.com/base/feeds/snippets/18434733520229761009')]\n",
      "print sims[('b0007prnjo', 'http://www.google.com/base/feeds/snippets/18434733520229761009')]\n"
     ],
     "language": "python",
     "metadata": {},
     "outputs": [
      {
       "output_type": "stream",
       "stream": "stdout",
       "text": [
        "1.77902367758e-05\n",
        "0.024973399359\n",
        "0.422459814675\n"
       ]
      }
     ],
     "prompt_number": 34
    },
    {
     "cell_type": "markdown",
     "metadata": {},
     "source": [
      "\n",
      "### Analysis\n",
      "\n",
      "Now we have an authoritative list of record-pair similarities, but we need a way to use those similarities to decide if two records are duplicates or not.\n",
      "The simplest approach is to pick a **threshold**.\n",
      "Pairs whose similarity is above the threshold are declared duplicates, and pairs below the threshold are declared distinct.\n",
      "\n",
      "To decide where to set the threshold we need to understand what kind of errors result at different levels.\n",
      "If we set the threshold too low, we get more **false positives**, that is, record-pairs we say are duplicates that in reality are not.\n",
      "If we set the threshold too high, we get more **false negatives**, that is, record-pairs that really are duplicates but that we miss.\n",
      "\n",
      "ER algorithms are evaluated by the common metrics of information retrieval and search called **precision** and **recall**.\n",
      "Precision asks of all the record-pairs marked duplicates, what fraction are true duplicates?\n",
      "Recall asks of all the true duplicates in the data, what fraction did we successfully find?\n",
      "As with false positives and false negatives, there is a trade-off between precision and recall.\n",
      "A third metric, called **F-measure**, takes the harmonic mean of precision and recall to measure overall goodness in a single value.:\n",
      "\n",
      "$$Fmeasure = 2 \\frac{precision * recall}{precision + recall}$$\n"
     ]
    },
    {
     "cell_type": "markdown",
     "metadata": {},
     "source": [
      "#### Exercise 5\n",
      "\n",
      "> **Note**: For this exercise, use the \"gold standard\" mapping from the included file to look up true duplicates, and the results of exercise 4.\n",
      "\n",
      "**a**. Implement functions to count true-positives (true duplicates above the threshold), and false-positives and -negatives.  HINT: To make your functions efficient, you should bin your counts by similarity range."
     ]
    },
    {
     "cell_type": "code",
     "collapsed": false,
     "input": [
      "# Look up all similarity scores for true duplicates\n",
      "print len(gold_standard)\n",
      "true_dup_sims = [] # TODO Build this\n",
      "\n",
      "for dup_tup in gold_standard: #should be tuples\n",
      "    true_dup_sims.append(sims.get(dup_tup, 0))\n",
      "\n",
      "# TODO Just compute true_dup_sim above\n",
      "def truepos(threshold):\n",
      "    return len(true_dup_sims) - falseneg(threshold)\n",
      "\n",
      "# Pre-bin counts of false positives by threshold range\n",
      "nthresholds = 100\n",
      "def bin(similarity):\n",
      "    return int(similarity * nthresholds)\n",
      "\n",
      "fp_counts = {} # TODO Build this.  Should map bin number to count of false-positives            \n",
      "\n",
      "for classified_tup, cos_sim in sims.items():\n",
      "    if not classified_tup in gold_standard: #if classified as positive (but NOT actually positive)\n",
      "        fp_counts[bin(cos_sim)] = fp_counts.get(bin(cos_sim), 0) + 1\n",
      "\n",
      "# TODO Implement this\n",
      "def falsepos(threshold):\n",
      "    falsepos_below_thresh = 0\n",
      "    for bin_num, count in fp_counts.items():\n",
      "        if bin_num > bin(threshold): #cumulatively count points above thresh, but NOT true \n",
      "            #note that => or > made no difference in fmeasure\n",
      "            falsepos_below_thresh += count\n",
      "    return falsepos_below_thresh\n",
      "\n",
      "# TODO Implement this\n",
      "def falseneg(threshold):\n",
      "    #every eleme in true_dup below the threshold is falsely put as negative\n",
      "    falseneg_below_thresh = 0\n",
      "    for true_dup_sim in true_dup_sims:\n",
      "        if true_dup_sim < threshold:\n",
      "            #changing to <= lowered the fmeasure by 1% ish.\n",
      "            falseneg_below_thresh += 1\n",
      "    return falseneg_below_thresh\n"
     ],
     "language": "python",
     "metadata": {},
     "outputs": [
      {
       "output_type": "stream",
       "stream": "stdout",
       "text": [
        "1300\n"
       ]
      }
     ],
     "prompt_number": 35
    },
    {
     "cell_type": "markdown",
     "metadata": {},
     "source": [
      "**b**. What is the relationship between false-positives and -negatives (and true-positives and -negatives) on the one hand and precision and recall on the other?\n",
      "Use the functions from part **a** to implement functions to compute precision, recall, F-measure as a function of threshold value."
     ]
    },
    {
     "cell_type": "code",
     "collapsed": false,
     "input": [
      "# TODO Implement this (returns a float)\n",
      "#Precision asks of all the record-pairs marked duplicates, what fraction are true duplicates?\n",
      "def precision(threshold):\n",
      "    return float(truepos(threshold)) / (falsepos(threshold) + truepos(threshold))\n",
      "\n",
      "# TODO Implement this (returns a float)\n",
      "#Recall asks of all the true duplicates in the data, what fraction did we successfully find? \n",
      "def recall(threshold):\n",
      "    return float(truepos(threshold)) / len(true_dup_sims)\n",
      "\n",
      "# TODO Implement this (returns a float)\n",
      "def fmeasure(threshold):\n",
      "    #print recall(threshold)\n",
      "    return (2 * precision(threshold) * recall(threshold) / (precision(threshold) + recall(threshold)))\n",
      "\n",
      "print precision(0.99) #sanity check. this strict of threshold should yield high precision (since we selected the top few)\n",
      "print recall(0.00001) #sanity check, this low of threshold should yield high recall (since we selected a lot)\n"
     ],
     "language": "python",
     "metadata": {},
     "outputs": [
      {
       "output_type": "stream",
       "stream": "stdout",
       "text": [
        "1.0\n",
        "0.999230769231\n"
       ]
      }
     ],
     "prompt_number": 36
    },
    {
     "cell_type": "markdown",
     "metadata": {},
     "source": [
      "**c**. Make line plots of precision, recall, and F-measure as a function of threshold value, for thresholds between 0.0 and 1.0.  You can change `nthresholds` (above in part **a**) to change threshold values to plot."
     ]
    },
    {
     "cell_type": "code",
     "collapsed": false,
     "input": [
      "# For the x-axis\n",
      "thresholds = [float(n) / nthresholds for n in range(0, nthresholds)]\n",
      "\n",
      "#print fmeasure(0.1)\n",
      "\n",
      "fmeasures_at_thresholds = [fmeasure(thresh) for thresh in thresholds]\n",
      "\n",
      "precisions_at_thresholds = [precision(thresh) for thresh in thresholds]\n",
      "recall_at_thresholds = [recall(thresh) for thresh in thresholds]\n",
      "pylab.plot(recall_at_thresholds, label = \"recall\")\n",
      "pylab.plot(precisions_at_thresholds, label = \"precision\")\n",
      "\n",
      "\n",
      "pylab.plot(fmeasures_at_thresholds, label=\"fmeasure\")\n",
      "yscale('log')\n",
      "xlabel('theshold bins')\n",
      "ylabel('log(fmeasure | recall | precision)')\n",
      "title('Fmeasure and Thresholds')\n",
      "legend(framealpha=0.5)\n",
      "\n",
      "# TODO Make a plot.  HINT: Use pylab.plot().  Don't forget labels."
     ],
     "language": "python",
     "metadata": {},
     "outputs": [
      {
       "metadata": {},
       "output_type": "pyout",
       "prompt_number": 37,
       "text": [
        "<matplotlib.legend.Legend at 0x109d36510>"
       ]
      },
      {
       "metadata": {},
       "output_type": "display_data",
       "png": "[encoded data removed]",
       "text": [
        "<matplotlib.figure.Figure at 0x109d46f10>"
       ]
      }
     ],
     "prompt_number": 37
    },
    {
     "cell_type": "markdown",
     "metadata": {},
     "source": [
      "**d**. Using the plot, pick the optimal threshold value and argue for why it is optimal.\n",
      "If false-positives are considered much worse than false-negatives, how does that change your answer?\n"
     ]
    },
    {
     "cell_type": "markdown",
     "metadata": {},
     "source": [
      "> I would utilize around the max of fmeasure, or in fact the crossing between the 3 lines. That indicates the best location since the trade off  yielded the best result. That region seems to give off the best trade off between precision and recall. The threshold isn't too strict to offer too many false negatives, but at the same time it isn't too low to offer a good balance of false positievs.\n",
      "\n",
      "> If we placed more negative weights on false-positives, I'd go for a *__higher__* threshold bin. This mean we'll make the bar (threshold) for classifying higher, thus reducing false-positives (though increasing false negative goes up too) (this is the same as increasing precision).  "
     ]
    },
    {
     "cell_type": "markdown",
     "metadata": {},
     "source": [
      "**e**.  State-of-the-art tools can get an F-measure of about 60% on this data set.\n",
      "In this assignment we expect to get an F-measure closer to 40%.\n",
      "Look at some examples of errors (both false-positives and -negatives) and think about what went wrong.\n",
      "What are some ways we might improve our simple classifier?\n",
      "Back up your ideas with examples as much as possible."
     ]
    },
    {
     "cell_type": "code",
     "collapsed": false,
     "input": [
      "false_pos_hash = {}\n",
      "for classified_tup, cos_sim in sims.items():\n",
      "    if cos_sim > 0.7 and not classified_tup in gold_standard: #if classified as positive (but NOT actually positive)        \n",
      "        false_pos_hash[classified_tup] = cos_sim\n",
      "        \n",
      "print len(false_pos_hash)\n",
      "print len(gold_standard)\n",
      "for tup, cos_sim in false_pos_hash.items():\n",
      "    print AMAZON_DICT_FULL[tup[0]]\n",
      "    print \"-\" * 50\n",
      "    print GOOGLE_DICT_FULL[tup[1]]\n",
      "    print \"*\" * 50\n",
      "    \n",
      "#AMAZON_DICT_FULL[]"
     ],
     "language": "python",
     "metadata": {},
     "outputs": [
      {
       "output_type": "stream",
       "stream": "stdout",
       "text": [
        "59\n",
        "1300\n",
        "superstart! science arcade kids can discover a fun new way to learn about the amazing world of science. learn about machines great inventors and their inventions the solar system music and more - the kid-friendly environment makes it easy. selectsoft publishing 24.95\n",
        "--------------------------------------------------\n",
        "superstart! science arcade kids can discover a fun new way to learn about the amazing world of science. learn about machines great inventors and their inventions the solar system music and more - the kid-friendly environment makes it easy.  8.95\n",
        "**************************************************\n",
        "microsoft onenote 2007 upgrade office onenote 2007 upgrade is a digital notebook that provides one place to gather notes and information powerful search capabilities to find what you're looking for quickly and easy-to-use shared notebooks to help manage information overload and work with others more effectively. as an integrated part of the 2007 microsoft office system onenote 2007 upgrade makes it easy to gather organize find and share your notes and information more efficiently and effectively. powerful search capabilities can help you locate information from text within pictures or from spoken words in audio and video recordings. and easy-to-use collaborative tools help teams work together with all of this information in shared notebooks whether online or offline. plus the familiar look and feel of the microsoft office system makes it easy to start using the program right away minimizing wasted time and training costs. gather all of your information in office onenote 2007. view larger. gather and organize everything in one place with so much information coming your way--and in so many different forms--you need one place to keep it all and a tool that's flexible enough to capture it. otherwise information that could have been used to help make better decisions or make you more efficient is lost or difficult to find. unlike paper-based systems word processing programs e-mail systems or other productivity programs onenote 2007 delivers the flexibility to gather and organize text pictures digital handwriting audio and video recordings and more--all in one digital notebook on your computer. this software can help you become more productive by keeping the information you need at your fingertips and reducing time spent searching for information across e-mail messages paper notebooks file folders and printouts. save time by consolidating information taking notes on paper and transcribing them later can be time-consuming and difficult and you run the risk of losing important pages. in addition it's difficult to share data kept in a conventional paper notebook and they're only good for capturing one kind of information: handwritten notes. when it's time to gather information from other sources and in different ways other difficulties can arise. for instance because most people don't have a way of digitally capturing unstructured information they often print out web research and store information in file folders or on desks which is difficult to find later and inaccessible when you're away. and sharing information with others can be challenging--even when using e-mail it can be hard to hard to figure out what the plan is without reading through long e-mail threads that may or may not contain the information you need. onenote 2007 however gives you a solution with a flexible software program that enables you to g! ather virtually any type of information in one place. with your information readily available you can be more prepared and informed. quickly find what you need with onenote 2007 finding information is easy and fast because it eliminates the guesswork of figuring out where you stored critical information. no more clicking through file folders and sorting through pages of paper notebooks to find the information you're looking for. powerful search features give you the ability to locate information quickly while allowing you to search across new types of content like text in scanned documents or images and spoken words in audio and video recordings. with easier access to the facts you and your teammates can make better decisions. with office onenote 2007 your team can work together more effectively. view larger. protect your intellectual property onenote 2007 helps you consolidate various types of information--including freeform notes images documents files from other microsoft office system programs and rich media--and organize it in the way that works best for you. and because it keeps everything in one place you don't have to worry about frequently saving or creating backups of your information--onenote 2007 does this for you. ideal for businesses if you're attending an important meeting and don't want to rely on your memory simply take meeting notes in onenote 2007 to create a living repository of group decisions and brainstorming sessions that adds continuity and context to subsequent meetings. you can also catch all the details of customer calls and meetings by synchronizing typed or handwritten notes with office onenote 2007 audio and video recordings. if you're working outside of the office gather information on your microsoft windows mobile powered devices (including notes audio recordings and pictures) and transfer it to onenote 2007. and when it's time to share data with your colleagues take advantage of onenote 2007's export application programming interface to easily transfer information gathered in onenote 2007 to your company's business systems and in so doing reduce errors and wasted time spent rekeying the same information in different systems. need to copy paste or print information from and into other 2007 microsoft office system programs? it's no problem with onenote; this software lets you access and exchange information in word excel outlook and powerpoint. you can even use onenote 2007's drawing tools and tables to annotate and easily organize and manage information. find what you're looking for quickly using office onenote 2007. view larger. search and link options onenote 2007 lets you search and find keywords quickly within text in images and in audio recordings made within the application. you can also view hyperlinked search results in a summary task pane; a single click takes you to relevant results. for added convenience view all open notebooks at once use drag-and-drop functionality to easily arrange and rearrange your notes and add hyperlinks to other pages in your notebook to quickly find relevant content. manage tasks easily with two-way synchronization between onenote 2007 and the 2003 and 2007 versions of outlook or link notes and other information to specific outlook 2007 or outlook 2003 contacts to help you better prepare for meetings and recall information easily. if you want to underscore a particularly important point date or other piece of information mark notes with note tags visually rich icons that make it easier to return to reminders to-dos and other action items. work together more effectively with team members working from different locations and on multiple projects communication coordination and information sharing can challenge group effectiveness and productivity. teams often rely on e-mail messages to share information causing confusion and bloated e-mail inboxes. tasks action items agendas and issues stored within static documents or document management systems are difficult to update track and access and they prevent multiple people from working with the same information at the same time. onenote 2007 helps people work together better by eliminating roadblocks that arise when information is isolated in paper notes or file folders or on one person's computer. groups can share information easily work more productively and keep track of projects issues and goals more effectively. individuals can work together from the same notebook--whether online or offline--using shared notebooks. onenote2007 manages changes made to the same notebook elimina! ting the need to track versions or upload changes. you can also create a team knowledge base so that everyone has access to the same information helping to get new team members up to speed quickly and minimizing duplicate efforts. share notes even with non-onenote 2007 users by sending your notes as html so that anyone with an e-mail client or web browser can view them and stay in control of your information by choosing which notebooks to share with your teammates and which to keep private and help ensure privacy with password protection. you can even use onenote 2007 as a shared digital whiteboard enabling virtual teams to work together in real time viewing and editing the same set of notes. microsoft 79.95\n",
        "--------------------------------------------------\n",
        "microsoft office onenote 2007 - complete package - 1 pc - cd - win - english microsoft office onenote 2007 is a digital notebook that provides a flexible way to gather and organize your notes and information  78.99\n",
        "**************************************************\n",
        "victorymul submitwolf version 6.0 ( swolf6r ) submitwolf v6.0 by trellian llc win 9x/me/nt/2000/xp victory multimedia 149.99\n",
        "--------------------------------------------------\n",
        "victory multimedia swolf6r submitwolf v6.0 9x/me/nt/2k/xp - by trellian llc *free shipping* free shipping available victory multimedia swolf6r submitwolf v6.0 9x/me/nt/2k/xp - by trellian llc *free shipping*  145\n",
        "**************************************************\n",
        "netmanage onweb web-to-host - ( v. 5.1 ) - upgrade license ( 910443-004 )  netmanage 0\n",
        "--------------------------------------------------\n",
        "910443-004-g onweb web-to-host - ( v. 5.1 ) - upgrade license - 1 user - volume - level g ( 3 netmanage 910443-004-g : usually ships in 24 hours : : onweb web-to-host gives diverse users secure browser-based access to host applications.  60.44\n",
        "**************************************************\n",
        "quickstart photo montage studio transform your photos into professional-looking montages! this unique software uses hundreds of mini-size photos as tiles to recreate your favorite digital photo into one great masterpiece. turn memorable moments into priceless keepsakes create montages to showcase your company's products or services and more! selectsoft publishing 19.95\n",
        "--------------------------------------------------\n",
        "quickstart photo montage studio transform your photos into professional-looking montages! this unique software uses hundreds of mini-size photos as tiles to recreate your favorite digital photo into one great masterpiece. turn memorable moments into priceless keepsakes create ...  9.95\n",
        "**************************************************\n",
        "xtreme photostory on cd and dvd 6  magix entertainment 29.99\n",
        "--------------------------------------------------\n",
        "magix entertainment corp. xtreme photostory on cd and dvd 6   26.14\n",
        "**************************************************\n",
        "microsoft word 2004 upgrade (mac) upgrade only; previous version required microsoft 109.99\n",
        "--------------------------------------------------\n",
        "microsoft word 2007 upgrade (pc) key features: professional content share your documents business integration better manage content...  109.95\n",
        "**************************************************\n",
        "ibm viavoice advanced v.10  nuance communications inc. 0\n",
        "--------------------------------------------------\n",
        "ibm(r) viavoice(r) standard edition 10 ibm viavoice standard edition is a voice-recognition product that includes essential dictation and command and control features. windows xp home windows 98se and windows me are the supported operating systems in standard edition. with standard ...  49.99\n",
        "**************************************************\n",
        "bookkeeper 2008  individual software 39.99\n",
        "--------------------------------------------------\n",
        "bookkeeper 2007 customize over 95 reports and create monthly budgets with bookkeeper 2007. create general ledger financial statements banking payroll accounts payable and receivable reports. import vendor customer and product information in a variety of ...  29.99\n",
        "**************************************************\n",
        "super solvers - spellbound! ! - school edition for mac features four activities that will help children master spelling using word recall and differentiation techniques. plus it helps enhance a child's vocabulary and language development skills. learning company 49.95\n",
        "--------------------------------------------------\n",
        "super solvers - spellbound! ! - school edition for mac features four activities that will help children master spelling using word recall and differentiation techniques. plus it helps enhance a child's vocabulary and language development skills.  17.95\n",
        "**************************************************\n",
        "virtual labs: light easy-to-use experiments and highly accurate simulations with over 40 reproducible lab worksheets to help build an understanding of reflection and mirrors refraction and lenses and colors. edmark 19.95\n",
        "--------------------------------------------------\n",
        "virtual labs: light easy-to-use experiments and highly accurate simulations with over 40 reproducible lab worksheets to help build an understanding of reflection and mirrors refraction and lenses and colors.  5.49\n",
        "**************************************************\n",
        "systemsuite 8 professional  individual software 49.99\n",
        "--------------------------------------------------\n",
        "systemsuite 6(tm) professional mini vcom systemsuite 5 is a comprehensive collection of essential pc utilities designed to maintain and protect your pc to keep it running smoothly. with systemsuite you can improve system performance protect your system against from hackers and ...  49.99\n",
        "**************************************************\n",
        "reader rabbit playtime for baby and toddler explore colors shapes songs animals letters numbers and more with your baby or toddler. discover the happy and colorful world of reader rabbit--an enchanted land of fun and learning--with your child. the learning company 19.99\n",
        "--------------------------------------------------\n",
        "reader rabbit playtime for baby & toddler discovery the happy and colorful world of reader rabbit with your child!  9.9\n",
        "**************************************************\n",
        "microsoft powerpoint 2004 (mac) powerpoint 2004 offers you the powerful advanced new tools needed for fantastic presentations. whether it's for business academic or personal needs you'll design dynamic and visual presentations that stand out and get noticed. microsoft 229.99\n",
        "--------------------------------------------------\n",
        "high impact email marketing 3.0 overview a marketing tool for small businesses. high impact email marketing provides three steps on how to grow your business from creating powerful marketing that gets you noticed. sending professional campaigns to new and existing customers to ...  12.9\n",
        "**************************************************\n",
        "quickstudy u.s. government build social studies skills fast! quickstudy u.s. government provides self-paced interactive and stimulating tutorials to give students a solid educational foundation that will raise grades and test scores. be a quickstudy! improve grades and test scores multimedia learning system makes even the toughest physics concepts come alive great for new learners or students studying for college entrance exams boost grades and test scores! using step-by-step animations real-time quizzes and a fun 3-d interface quickstudy u.s. government gives students the tools they need to master key concepts of american government. take the stress out of high school civics the curriculum-based lessons cover citizenship principles of democracy politics and much more. they have been designed by educators to help students utilize critical thinking skills in an engaging learning environment. 108 engaging lessons 20 skill-building animations 270 interactive quiz questions searchable database with 500+ key concepts topics include: principles of democracy citizenship the civil society the three branches supreme court decisions media influence political campaigns levels of government system requirements for windows windows 98se me xp 266 mhz processor or faster 32 mb ram 500 mb free hard disk space svga monitor 256 colors sound blaster pro-compatible sound card & speakers 4x cd-rom drive printer recommended for printing lessons selectsoft publishing 19.95\n",
        "--------------------------------------------------\n",
        "quickstudy us government using animations real-time quizzes and a fun interface quickstudy us government gives users the tools they need to master the complexities of the us political system. the curriculum-based lessons cover citizenship principles of democracy ...  8.95\n",
        "**************************************************\n",
        "professor teaches excel & word professor teaches excel and word individual software 19.99\n",
        "--------------------------------------------------\n",
        "individual software professor teaches microsoft office 2007 professor teaches microsoft office 2007  29.99\n",
        "**************************************************\n",
        "pdf converter 4 scansoft pdf converter 4 instantly converts pdf files into documents spreadsheets and forms that look exactly like the original - complete with all formatting and graphics! information is set free to be edited and integrated into your documents. superior formatting image-only pdf handling and page-range selection mean you'll save more time than ever before. pdf converter works within the applications that you use every day including microsoft\ufffd word excel\ufffd and outlook as well as corel\ufffd wordperfect\ufffd. if you need more from pdf than paper trapped behind glass - then you need pdf converter! instantly converts pdf files into documents forms and spreadsheets. files will look just like the original - complete with text columns tables and graphics. includes pdf converter assistant to select page or range of pages to convert. pdf converter works within the applications that you use every day including microsoft word excel and outlook as well as corel wordperfect. pdf converter can even be used to extract charts and graphs from pdf files so they can be reused in microsoft powerpoint\ufffd and other applications with cut-and-paste ease! pdf converter lets you turn static pdf forms into editable microsoft word forms with a single mouse click. pdf converter was developed in collaboration with microsoft so it seamlessly integrates with the applications you use every day - microsoft word outlook internet explorer and windows explorer. nuance 49.95\n",
        "--------------------------------------------------\n",
        "pinnacle mobile media converter software for windows ipod software mobile media converter software for windows the mobile media converter software for windows from pinnacle allows you to convert video files to formats that are compatible with portable media players such as the apple ipod with video and the sony psp ...  29.95\n",
        "**************************************************\n",
        "elementary advantage 2008  encore software 0\n",
        "--------------------------------------------------\n",
        "elementary advantage 2008 encore key features: lessons and exercises covers multiple subjects ...  39.95\n",
        "**************************************************\n",
        "myinvoices & estimates deluxe myinvoices and estimates deluxe makes ite asier to handle one of the most important elements of your business: the invoices and estimates. get them wrong and you don't get paid. get them right and you'll ensure that your business maintains the cash flow it needs to grow. let myinvoices & estimates deluxe effectively manage your billing and cash collection by creating professional accurate invoices and estimates in minutes. avanquest software 39.95\n",
        "--------------------------------------------------\n",
        "myinvoices & estimates deluxe effectively manage your billing and cash collection with myinvoices & estimates deluxe . create accurate invoices estimates and customer statements. track business expenses and manage inventory levels of products and supplies needed to run your ...  39.99\n",
        "**************************************************\n",
        "super solvers - mission t.h.i.n.k - 25 user site license morty the notorious master of mischief is back in a wild and wacky arcade game that sharpens thinking and problem-solving skills that are fundamental to success in math science and everyday life. this time he and his metal minions have taken over the game factory and are challenging all super solvers' fans to a duel of wits! learning company 399.95\n",
        "--------------------------------------------------\n",
        "super solvers - mission think - 25 user site license morty the notorious master of mischief is back in a wild and wacky arcade game that sharpens thinking and problem-solving skills that are fundamental to success in math science and everyday life. this time he and his metal minions have taken ...  79.95\n",
        "**************************************************\n",
        "windows vista business spanish full version [dvd]  microsoft 329.95\n",
        "--------------------------------------------------\n",
        "adobe photoshop cs3 extended for mac upgrade system requirements powerpc g4 or g5 or intel core processor mac os x v10.4.8 512mb ram 64mb vram 2gb free hard-disk space (additional space required during installation) 1024 x 768 display resolution with 16-bit video card dvd-rom drive internet or ...  329.99\n",
        "**************************************************\n",
        "dinosaurs  topics entertainment 19.99\n",
        "--------------------------------------------------\n",
        "encyclopedia britannica profiles: dinosaurs! what makes dinosaurs so interesting? click your way through the evolution of dinosaurs in an interactive timeline. comprehensive and engaging it's the one source for all ages on this captivating subject. also includes a dinosaur family tree.  8.95\n",
        "**************************************************\n",
        "nero 8 ultra edition  nero inc. 99.95\n",
        "--------------------------------------------------\n",
        "nero nero 7 ultra edition enhanced cd/dvd burning software for windows authoring software nero 7 ultra edition enhanced cd/dvd burning software for windows the nero 7 ultra edition enhanced cd/dvd burning software for windows from nero is a powerful software suite for windows that allows you to get the most out of your dvd hd dvd or ...  79.99\n",
        "**************************************************\n",
        "sonicwall global vpn client - license ( 01-ssc-5310 ) license - - 1 user(s) - standard - pc handheld sonic systems inc. 0\n",
        "--------------------------------------------------\n",
        "01-ssc-5310 sonicwall global vpn client - license - 1 user - win sonicwall 01-ssc-5310 : usually ships in 24 hours : : in today's business environment providing mobile workers with a secure easy-to-use solution that gives them remote access to mission-critical resources on the corporate network is vital to a ...  43.85\n",
        "**************************************************\n",
        "safekeeper plus  bling 39.99\n",
        "--------------------------------------------------\n",
        "bling software limited safekeeper plus safekeeper plus is the first software product that offers total protection for both your family and computer. it's the only product to offer the kid safe blocker family watchdog and safety shield. safekeeper plus has the best anti-virus protection ...  39.99\n",
        "**************************************************\n",
        "let's make stickers a fun program for anyone that likes to make and use stickers! choose from over 5 000 color pictures to use in your designs. personalize your projects with your homemade stickers! global software publishing 19.95\n",
        "--------------------------------------------------\n",
        "let's make stickers a fun program for anyone that likes to make and use stickers! choose from over 5000 color pictures to use in your designs. personalize your projects with your homemade stickers!  8.95\n",
        "**************************************************\n",
        "wacky bird hunter can you save the earth from a zany invasion of wacky birds? this outrageously entertaining game is sure to keep you in stitches! over 100 addictive fun-filled levels! the birds fly fast & furious - miss too many and you\ufffdll be left behind! selectsoft publishing 19.95\n",
        "--------------------------------------------------\n",
        "wacky bird hunter can you save the earth from a zany invasion of wacky birds? this outrageously entertaining game is sure to keep you in stitches! over 100 addictive fun-filled levels! the birds fly fast & furious - miss too many and you?ll be left behind!  8.95\n",
        "**************************************************\n",
        "ibm viavoice advanced v.10  nuance communications inc. 0\n",
        "--------------------------------------------------\n",
        "ibm(r) viavoice(r) advanced edition 10 ibm viavoice advanced edition release 10 is a feature-rich voice-recognition product designed for experienced pc users. windows xp home and professional windows 98se and windows me are the supported operating systems for advanced edition. viavoice ...  78.95\n",
        "**************************************************\n",
        "lotus dev. ibm db2 net search extender - ( v. 8.2 ) - media ( bb0kyna )  lotus development corp 0\n",
        "--------------------------------------------------\n",
        "bb0kyna ibm db2 net search extender - ( v. 8.2 ) - media - cd - linux unix win - engli ibm bb0kyna : usually ships in 24 hours : : net search extender enables a solution to include a powerful in-memory search capability for text-based data.  108.95\n",
        "**************************************************\n",
        "easy home massage - dvd let a registered massage therapist guide you through a series of lessons carefully designed to reduce aches and pains. male or female young or old you\ufffdll soon discover why there\ufffds nothing like massage for relaxing your body and soothing away the stresses and strains of your busiest day. selectmedia entertainment 19.95\n",
        "--------------------------------------------------\n",
        "easy home massage - dvd let a registered massage therapist guide you through a series of lessons carefully designed to reduce aches and pains. male or female young or old you?ll soon discover why there?s nothing like massage for relaxing your body and soothing away the ...  10.95\n",
        "**************************************************\n",
        "anime studio 5 win 98/me 2000/xp mac os 10.4 & up anime studio 5 is the ideal solution for first time animators hobbyists and digital enthusiasts. draw original art import your digital pictures dub and add subtitles to your existing videos or choose from many built-in characters to get started! use anime studio's intuitive tools to create and share your own original animations. anime studio simplifies the animation process empowering artists to create their projects faster and easier than ever before. direct your action with an intuitive timeline setting your movements to a timeline makes animation easy to understand add emotion and style to your animations by adding sound -- anime studio supports wav and aiff formats import layered psd files using a photoshop plug-in that converts files to anime studio format (included free with anime studio) publish for multiple media - output your animations to video tv and web formats system requirements - *windows - windows 98 se me 2000 (service pack 2 or higher) xp home/pro/tablet pc edition / 500 mhz processor minimum / 256 mb ram minimum / 50mb free hard disk space /16-bit color display 1024 x 768 resolution /cd-rom drive *macintosh - mac os x v10.3.9+ (universal binary) (mac os x v10.4+ recommended) / powerpc g5/g4 processor 500mhz or above /256mb ram minimum / 50mb free hard disk space / 16-bit color display 1024 x 768 resolution / cd-rom drive aladdin systems 49.99\n",
        "--------------------------------------------------\n",
        "allume anime studio pro mac os x v10.3.9+ (universal binary) (mac os x v10.4+ recommended) powerpc g5/g4 processor 500mhz or above (intel processor recommended) 256 mb ram minimum 50 mb free hard disk space (300 mb free hard disk space for anime studio pro) 16-bit color ...  179.99\n",
        "**************************************************\n",
        "math missions: the amazing arcade adventure grades 3-5 save spectacle city by disrupting randall underling's plan to drive all the stores out of business and take over the city. solve real-world math challenges in the uniquely entertaining stores and make theme successful again. scholastic 19.99\n",
        "--------------------------------------------------\n",
        "math missions: the amazing arcade adventure (grades 3-5) save spectacle city by disrupting randall underling's plan to drive all the stores out of business and take over the city. solve real-world math challenges in the uniquely entertaining stores and make theme successful again.  12.95\n",
        "**************************************************\n",
        "professor teaches excel & word professor teaches excel and word individual software 19.99\n",
        "--------------------------------------------------\n",
        "individual software professor teaches excel and word professor teaches excel and word  42.99\n",
        "**************************************************\n",
        "i copy dvds 2 professional edition icopydvds2 pro edition contains all you need to copy a dvd movie quickly and easily. the interface is simple and direct just put in your movie press copy and icopydvds2 does the rest! our unique auto fit and auto burn technology creates the highest quality movie possible on a single disc every time! me too software 69.99\n",
        "--------------------------------------------------\n",
        "i copy dvds 2 ultra edition make perfect dvd copies the ultimate in dvd backup and burning technology in one box! all the power and ease of use of icopydvds2 and burn suite 2005 pro together in a single package! with the fastest burn engine available and advanced support for ...  29.9\n",
        "**************************************************\n",
        "talk now! learn dutch the fast fun and easy way to learn dutch! test your knowledge with quizzes and a challenging memory game. plus even compare your pronunciation to native speakers! eurotalk interactive 29.95\n",
        "--------------------------------------------------\n",
        "speak & learn! dutch the fast fun and easy way to learn dutch! test your knowledge with quizzes and a challenging memory game. plus even compare your pronunciation to native speakers!  14.95\n",
        "**************************************************\n",
        "cisco ios enterprise services - complete package ( cd28-esk9= ) cisco ios software is the world's leading network infrastructure software delivering a seamless integration of technology innovation business-critical services and hardware support. currently operating on over ten million active systems ranging from the small home office router to the core systems of the world's largest service provider networks cisco ios software is the most widely leveraged network infrastructure software in the world. cisco systems - enterprise 0\n",
        "--------------------------------------------------\n",
        "cd28-esk9= cisco ios enterprise services - complete package - cd cisco systems cd28-esk9= : usually ships in 24 hours : : cisco ios (internetworking operating system) software is the platform that delivers network services and enables networked applications.  1001.38\n",
        "**************************************************\n",
        "wavelab studio 6 wavelab studio 6 combines state-of-the-art audio technology from the award-winning wavelab 6 with a streamlined workflow and a full complement of editing and mastering features targeted at project studios and aspiring musicians. it includes the same sample accurate 32-bit audio engine and a wide range of advanced tools with the pristine audio quality originally engineered for top mastering and editing professionals in wavelab 6. the studio version provides many of its next-generation features and capabilities to make it one of the worlds best editing and mastering solutions in its price range. steinberg media technologies 399.99\n",
        "--------------------------------------------------\n",
        "steinberg wavelab studio 6 audio editing software - educational discount music production software wavelab studio 6 - audio editing and mastering suite software for windows 2000/xp - educational discount wavelab studio 6 from steinberg is an audio editor and mastering suite software package that is based on the same sample accurate 32-bit audio ...  149.95\n",
        "**************************************************\n",
        "microsoft onenote 2007 office onenote 2007 is a digital notebook that provides one place to gather notes and information powerful search capabilities to find what you're looking for quickly and easy-to-use shared notebooks to help manage information overload and work with others more effectively. as an integrated part of the 2007 microsoft office system onenote 2007 makes it easy to gather organize find and share your notes and information more efficiently and effectively. powerful search capabilities can help you locate information from text within pictures or from spoken words in audio and video recordings. and easy-to-use collaborative tools help teams work together with all of this information in shared notebooks whether online or offline. plus the familiar look and feel of the microsoft office system makes it easy to start using the program right away minimizing wasted time and training costs. gather all of your information in office onenote 2007. view larger. gather and organize everything in one place with so much information coming your way--and in so many different forms--you need one place to keep it all and a tool that's flexible enough to capture it. otherwise information that could have been used to help make better decisions or make you more efficient is lost or difficult to find. unlike paper-based systems word processing programs e-mail systems or other productivity programs onenote 2007 delivers the flexibility to gather and organize text pictures digital handwriting audio and video recordings and more--all in one digital notebook on your computer. this software can help you become more productive by keeping the information you need at your fingertips and reducing time spent searching for information across e-mail messages paper notebooks file folders and printouts. save time by consolidating information taking notes on paper and transcribing them later can be time-consuming and difficult and you run the risk of losing important pages. in addition it's difficult to share data kept in a conventional paper notebook and they're only good for capturing one kind of information: handwritten notes. when it's time to gather information from other sources and in different ways other difficulties can arise. for instance because most people don't have a way of digitally capturing unstructured information they often print out web research and store information in file folders or on desks which is difficult to find later and inaccessible when you're away. and sharing information with others can be challenging--even when using e-mail it can be hard to hard to figure out what the plan is without reading through long e-mail threads that may or may not contain the information you need. onenote 2007 however gives you a solution with a flexible software program that enables you to gather virtually any type of information in one place. with your information readily available you can be more prepared and informed. quickly find what you need with onenote 2007 finding information is easy and fast because it eliminates the guesswork of figuring out where you stored critical information. no more clicking through file folders and sorting through pages of paper notebooks to find the information you're looking for. powerful search features give you the ability to locate information quickly while allowing you to search across new types of content like text in scanned documents or images and spoken words in audio and video recordings. with easier access to the facts you and your teammates can make better decisions. with office onenote 2007 your team can work together more effectively. view larger. protect your intellectual property onenote 2007 helps you consolidate various types of information--including freeform notes images documents files from other microsoft office system programs and rich media--and organize it in the way that works best for you. and because it keeps everything in one place you don't have to worry about frequently saving or creating backups of your information--onenote 2007 does this for you. ideal for businesses if you're attending an important meeting and don't want to rely on your memory simply take meeting notes in onenote 2007 to create a living repository of group decisions and brainstorming sessions that adds continuity and context to subsequent meetings. you can also catch all the details of customer calls and meetings by synchronizing typed or handwritten notes with office onenote 2007 audio and video recordings. if you're working outside of the office gather information on your microsoft windows mobile powered devices (including notes audio recordings and pictures) and transfer it to onenote 2007. and when it's time to share data with your colleagues take advantage of onenote 2007's export application programming interface to easily transfer information gathered in onenote 2007 to your company's business systems and in so doing reduce errors and wasted time spent rekeying the same information in different systems. need to copy paste or print information from and into other 2007 microsoft office system programs? it's no problem with onenote; this software lets you access and exchange information in word excel outlook and powerpoint. you can even use onenote 2007's drawing tools and tables to annotate and easily organize and manage information. find what you're looking for quickly using office onenote 2007. view larger. search and link options onenote 2007 lets you search and find keywords quickly within text in images and in audio recordings made within the application. you can also view hyperlinked search results in a summary task pane; a single click takes you to relevant results. for added convenience view all open notebooks at once use drag-and-drop functionality to easily arrange and rearrange your notes and add hyperlinks to other pages in your notebook to quickly find relevant content. manage tasks easily with two-way synchronization between onenote 2007 and the 2003 and 2007 versions of outlook or link notes and other information to specific outlook 2007 or outlook 2003 contacts to help you better prepare for meetings and recall information easily. if you want to underscore a particularly important point date or other piece of information mark notes with note tags visually rich icons that make it easier to return to reminders to-dos and other action items. work together more effectively with team members working from different locations and on multiple projects communication coordination and information sharing can challenge group effectiveness and productivity. teams often rely on e-mail messages to share information causing confusion and bloated e-mail inboxes. tasks action items agendas and issues stored within static documents or document management systems are difficult to update track and access and they prevent multiple people from working with the same information at the same time. onenote 2007 helps people work together better by eliminating roadblocks that arise when information is isolated in paper notes or file folders or on one person's computer. groups can share information easily work more productively and keep track of projects issues and goals more effectively. individuals can work together from the same notebook--whether online or offline--using shared notebooks. onenote2007 manages changes made to the same notebook eliminating the need to track versions or upload changes. you can also create a team knowledge base so that everyone has access to the same information helping to get new team members up to speed quickly and minimizing duplicate efforts. share notes even with non-onenote 2007 users by sending your notes as html so that anyone with an e-mail client or web browser can view them and stay in control of your information by choosing which notebooks to share with your teammates and which to keep private and help ensure privacy with password protection. you can even use onenote 2007 as a shared digital whiteboard enabling virtual teams to work together in real time viewing and editing the same set of notes. microsoft 99.95\n",
        "--------------------------------------------------\n",
        "microsoft office onenote 2007 - complete package - 1 pc - cd - win - english microsoft office onenote 2007 is a digital notebook that provides a flexible way to gather and organize your notes and information  78.99\n",
        "**************************************************\n",
        "zonealarm internet security suite  zone labs 49.99\n",
        "--------------------------------------------------\n",
        "zone labs zonealarm pro zonealarm pro delivers powerful multi-layered security to your pc with an advanced firewall anti-spyware spy-site blocking identity theft protection privacy protection and much more! system requirements: windows 2000 pro/xp.  30.17\n",
        "**************************************************\n",
        "season ticket football 2003 season ticket football 2003 is a new football simulation that doesn't just challenge your finger speed -- it challenges your mind! atari 19.99\n",
        "--------------------------------------------------\n",
        "season ticket football 2003 experience the power of football ownership! designed to stimulate and challenge your mind season ticket football is the winning touchdown of football simulation games. put yourself in the coach's shoes as you lead your team to victory. no matter ...  9.95\n",
        "**************************************************\n",
        "quickverse bible premier suite  individual software 39.99\n",
        "--------------------------------------------------\n",
        "findex.com inc quickverse mac bible study 2007 white box quickverse mac has been created from the ground up to be a truly native os-x application. any mac user interested in bible reading bible study sermon preparation = or teaching will quickly discover how easy the program is to use. quickverse mac ...  37.18\n",
        "**************************************************\n",
        "math missions: the race to spectacle city arcade (grades k-2) catch the bus subway or ferry to travel the city and tackle fun math challenges in the stores of spectacle city. build addition subtraction geometry and problem solving skills while constructing a skyscraper sorting toys at the toy store counting types of candy at the outdoor market and more. scholastic 29.95\n",
        "--------------------------------------------------\n",
        "math missions: the race to spectacle city arcade (grades k-2) catch the bus subway or ferry to travel the city and tackle fun math challenges in the stores of spectacle city. build addition subtraction geometry and problem solving skills while constructing a skyscraper sorting toys at the toy store ...  8.49\n",
        "**************************************************\n",
        "rayman 10th anniversary collection three critically acclaimed action-packed games starring rayman! / rated e: everyone ubi soft 19.99\n",
        "--------------------------------------------------\n",
        "rayman 10th anniversary collection enter a bizarre fantasy universe and join rayman as he battles against evil! the rayman 10th anniversary collection contains three critically acclaimed action-packed games as well as a print studio bonus posters and printable stickers.  8.95\n",
        "**************************************************\n",
        "zipmagic personal edition access anything zip everything - even photos! compress photos compress jpeg images strong 512-bit encryption safeguards privacy and much more! allume systems 19.95\n",
        "--------------------------------------------------\n",
        "zipmagic personal edition access anything zip everything - even photos! compress photos compress jpeg images strong 512-bit encryption safeguards privacy and much more!  8.95\n",
        "**************************************************\n",
        "ae mappoint 2006 cd ae mappoint 2006 cd microsoft corp 49.95\n",
        "--------------------------------------------------\n",
        "microsoft(r) mappoint(r) 2006 microsoft mappoint 2006 delivers mapping and location technology that helps business users to visualize analyze and communicate data. mappoint 2006 helps you to communicate geographic and business data in an interesting way use maps to communicate ...  249.99\n",
        "**************************************************\n",
        "madeline rainy day activities bonjour! it's far too cold and wet to play outside- but don't worry- madeline is here! there are lots of fun things to do in madeline's room. you can make a mask create a silly story paint a masterpiece and more! skills covered: reading shapes parts of speech matching counting and science & nature. encore software 19.95\n",
        "--------------------------------------------------\n",
        "madeline rainy day activities bonjour! it's far too cold and wet to play outside- but don't worry- madeline is here! there are lots of fun things to do in madeline's room. you can make a mask create a silly story paint a masterpiece and more! skills covered: reading shapes ...  9.95\n",
        "**************************************************\n",
        "emedia bass method win/mac emedia bass method os x (win 95 98 me nt 2000 xp/mac 7.1-9.x(classic) x) emedia 59.99\n",
        "--------------------------------------------------\n",
        "emedia essential bass guitar dvd   16.95\n",
        "**************************************************\n",
        "quickstart pc cleaner xp is your computer running slower due to unwanted garbage and junk left in your system? just from normal everyday use your computer becomes clogged with junk registry files littered file fragments on your hard drive and other unnecessary files. now you can safely clean all that up with a single click with quickstart pc cleaner xp! selectsoft publishing 19.95\n",
        "--------------------------------------------------\n",
        "quickstart pc cleaner xp is your computer running slower due to unwanted garbage and junk left in your system? just from normal everyday use your computer becomes clogged with junk registry files littered file fragments on your hard drive and other unnecessary files. now ...  8.95\n",
        "**************************************************\n",
        "the print shop elements: labels & logos sb cs by the print shop the print shop\ufffd elements: labels & logos is the complete and easy logo design and labeling solution! easily create the perfect logo in minutes with this simple yet powerful program. the professionally designed templates are modifiable and can be customized in hundreds of ways. design stylish and functional labels for every element of your business or home from cd & dvd labels to personalized mailing & shipping media storage filing systems & more. coordinate business mailings merge contacts to easily create mailing labels sort contacts for mass mailings import contacts from other programs edit photos in a snap save as pdf you can also create greeting cards calendars newsletters and other projects with the 8 000+ project templates 115 000+ premium images and graphics 200+ avery\ufffd templates and 200+ fonts. encore software 0\n",
        "--------------------------------------------------\n",
        "the print shop(r) elements: labels logos & more the print shop elements is a complete and easy logo design and labeling solution. easily create the perfect logo in minutes with this simple yet powerful program. the professionally designed templates are modifiable and can be customized in hundreds ...  19.99\n",
        "**************************************************\n",
        "microsoft office frontpage 2003 ( academic version ) ( windows ) frontpage 2003 delivers the features flexibility and functionality to help you build superior web sites. it includes the professional design authoring data and publishing tools you need to create dynamic and sophisticated sites. build data-driven web sites enables by windows sharepoint services move files easily between local and remote locations and publish in both directions microsoft 159.98\n",
        "--------------------------------------------------\n",
        "microsoft(r) frontpage 2002 easy to learn and use for a personal web page or a corporate site. tour new features with complete animation and illustrations.  169.56\n",
        "**************************************************\n",
        "sat act and psat 2007 platinum sat act and psat 2007 platinum topics entertainment 58.5\n",
        "--------------------------------------------------\n",
        "kaplan act/sat/psat gold 2007 mac os x platform: windows 98 windows xp mac os x windows 2000 windows me windows nt  22.99\n",
        "**************************************************\n",
        "bingo dvd tv game gone are the days of mom and dad missing their chance at bingo to pull numbers out of a bag! now the whole family can play along with live bingo the only interactive dvd game featuring this classic family activity. let live bingo's exciting sound effects dynamic 3d graphics and live bingo calls bring new levels of excitement to your family's traditional game of bingo. game includes 1 live bingo dvd 25 double-sided wipe-clean bingo cards and marker pens. for 2 or more players ages 8 and up. imagination international 17.99\n",
        "--------------------------------------------------\n",
        "imagination international corp live bingo gone are the days of mom and dad missing their chance at bingo to pull numbers out of a bag! now the whole family can play along with live bingo the only interactive dvd game featuring this classic family activity. let live bingo's exciting sound ...  10.86\n",
        "**************************************************\n",
        "web radio recorder  magix entertainment 0\n",
        "--------------------------------------------------\n",
        "magix movie edit pro 12 (pc) magix entertainment key features: easy to use dolby digital sound add background music create hd-dvd discs one-click functions windows 2000/xp/vista ...  49.99\n",
        "**************************************************\n",
        "professor teaches excel & word professor teaches excel and word individual software 19.99\n",
        "--------------------------------------------------\n",
        "individual software professor teaches windows vista professor teaches windows vista  19.99\n",
        "**************************************************\n",
        "wavelab studio 6 wavelab studio 6 combines state-of-the-art audio technology from the award-winning wavelab 6 with a streamlined workflow and a full complement of editing and mastering features targeted at project studios and aspiring musicians. it includes the same sample accurate 32-bit audio engine and a wide range of advanced tools with the pristine audio quality originally engineered for top mastering and editing professionals in wavelab 6. the studio version provides many of its next-generation features and capabilities to make it one of the worlds best editing and mastering solutions in its price range. steinberg media technologies 399.99\n",
        "--------------------------------------------------\n",
        "steinberg wavelab studio 6 audio editing software - competitive crossgrade music production software wavelab studio 6 - audio editing and mastering suite software for windows 2000/xp - competitive crossgrade wavelab studio 6 from steinberg is an audio editor and mastering suite software package that is based on the same sample accurate 32-bit audio ...  199.95\n",
        "**************************************************\n",
        "web radio recorder  magix entertainment 0\n",
        "--------------------------------------------------\n",
        "magix music maker 12 deluxe (pc) magix entertainment key features: compose music play on virtual instruments record your voice arrange into songs...  59.99\n",
        "**************************************************\n",
        "tank battle enemy tanks have broken the lines and captured a city of strategic importance. your mission as an anti-tank cannon commander is to repel the occupiers and reclaim the city! the freedom of the city and all of its inhabitants depends on you! casual arcade 19.95\n",
        "--------------------------------------------------\n",
        "tank battle enemy tanks have broken the lines and captured a city of strategic importance. your mission as an anti-tank cannon commander is to repel the occupiers and reclaim the city! the freedom of the city and all of its inhabitants depends on you!  8.95\n",
        "**************************************************\n",
        "burning monkey solitaire 2005 edition burning monkey solitaire 2005 puts an all-new spin on the classic single-player card game! freeverse software 24.99\n",
        "--------------------------------------------------\n",
        "freeverse burning monkey solitaire 4.0 system requirements mac os x 10.3.9 or greater 128 mb ram (256 mb preferred) 32mb vram (video ram) 500 mb mb hard drive space  24.95\n",
        "**************************************************\n",
        "netmanage rumba unix-hp edition - ( v. 7.3 ) - upgrade license ( 902453-006 )  netmanage 0\n",
        "--------------------------------------------------\n",
        "902453-006-g rumba unix-hp edition - ( v. 7.3 ) - upgrade license - 1 user - volume - level g netmanage 902453-006-g : usually ships in 24 hours : : the rumba product family provides users secure access to mission-critical applications and data residing on virtually any host system from the latest windows desktops including windows xp and ...  93.66\n",
        "**************************************************\n"
       ]
      }
     ],
     "prompt_number": 38
    },
    {
     "cell_type": "markdown",
     "metadata": {},
     "source": [
      "> This may sound weird, but after looking at some of the false-positive candidates (not in gold_standard, but say threshold of over .5), the items actually seemed extremely similar:\n",
      "<div>\n",
      "\"reader rabbit playtime for baby and toddler explore colors shapes songs animals letters numbers and more with your baby or toddler. discover the happy and colorful world of reader rabbit--an enchanted land of fun and learning--with your child. the learning company 19.99\"\n",
      "==================================================== V.S                                                                                         \n",
      "\"reader rabbit playtime for baby & toddler discovery the happy and colorful world of reader rabbit with your child!  9.9\"\n",
      "</div> \n",
      "\n",
      "> I don't know why, but I'm suspecting that the gold_standard mapping might not be 100% correct (complete i.e. there are more mappings that are actually correct but not in gold_standard). Given the price range, and description, I can't see how they are not the same item. Moreoever, we learned in lectures that no matter how good fo classification algorithm/process we have, if our data is incomplete/dirty, we can't do better.\n",
      "\n",
      "> However, if we do assume that gold standard is correct, we can take advantage of somee of the meta data aboutthe product (such as $price). Condering that the Internet generally creates a fluid market, prices generally converge (though there are sales). If the prices between the 2 products are significantly different, there is a larger chance of them NOT being duplicates. Therefore we can build a regex that tries to parse  prices of products.\n",
      "<div>\n",
      "\"microsoft powerpoint 2004 (mac) powerpoint 2004 offers you the powerful advanced new tools needed for fantastic presentations. whether it's for business academic or personal needs you'll design dynamic and visual presentations that stand out and get noticed. microsoft 229.99\"\n",
      "==================================================== V.S                                                                                         \n",
      "\"high impact email marketing 3.0 overview a marketing tool for small businesses. high impact email marketing provides three steps on how to grow your business from creating powerful marketing that gets you noticed. sending professional campaigns to new and existing customers to ...  12.9\"\n",
      "</div>\n",
      ">\n",
      "> We see here that we can create a mapping of difference in prices and the probability of the product being different. This can give us another  useful feature in future text (product) analysis\n"
     ]
    }
   ],
   "metadata": {}
  }
 ]
}